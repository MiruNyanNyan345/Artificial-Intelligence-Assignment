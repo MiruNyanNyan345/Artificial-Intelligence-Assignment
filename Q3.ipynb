{
 "nbformat": 4,
 "nbformat_minor": 0,
 "metadata": {
  "colab": {
   "name": "Q3",
   "provenance": [],
   "collapsed_sections": []
  },
  "kernelspec": {
   "name": "python3",
   "language": "python",
   "display_name": "Python 3"
  },
  "language_info": {
   "name": "python"
  }
 },
 "cells": [
  {
   "cell_type": "code",
   "metadata": {
    "id": "1yKaYIPLCpW3"
   },
   "source": [
    "import matplotlib.pyplot as plt"
   ],
   "execution_count": 49,
   "outputs": []
  },
  {
   "cell_type": "code",
   "metadata": {
    "id": "PmePeYOlT2ix"
   },
   "source": [
    "def read_csv(csv_file):\n",
    "  csv_lst = []\n",
    "  with open(csv_file) as f:\n",
    "    lines = f.read().split('\\n')[:-1]\n",
    "    for line in lines:\n",
    "      row = line.split(\",\")\n",
    "      csv_lst.append([int(row[0]), int(row[1])])\n",
    "  return csv_lst"
   ],
   "execution_count": 50,
   "outputs": []
  },
  {
   "cell_type": "code",
   "metadata": {
    "id": "8upSlwkVJZEa"
   },
   "source": [
    "data = read_csv(\"./Assignment Data/Q3/Points.csv\")\n",
    "data_x = [x[0] for x in data]\n",
    "data_y = [y[1] for y in data]"
   ],
   "execution_count": 51,
   "outputs": []
  },
  {
   "cell_type": "markdown",
   "metadata": {
    "id": "GR71RX4-Mfbw"
   },
   "source": [
    "From the following graph, we know that there should be 3 clusters."
   ]
  },
  {
   "cell_type": "code",
   "metadata": {
    "colab": {
     "base_uri": "https://localhost:8080/",
     "height": 320
    },
    "id": "OX5rjVXxDJ_3",
    "outputId": "bf0161ef-7602-4452-a52f-b737532b7ca5"
   },
   "source": [
    "fig = plt.figure(figsize=(7,5))\n",
    "plt.scatter(data_x, data_y)\n",
    "fig.show()"
   ],
   "execution_count": 52,
   "outputs": [
    {
     "name": "stderr",
     "output_type": "stream",
     "text": [
      "/Library/Frameworks/Python.framework/Versions/3.7/lib/python3.7/site-packages/ipykernel_launcher.py:3: UserWarning: Matplotlib is currently using module://ipykernel.pylab.backend_inline, which is a non-GUI backend, so cannot show the figure.\n",
      "  This is separate from the ipykernel package so we can avoid doing imports until\n"
     ]
    },
    {
     "data": {
      "text/plain": "<Figure size 504x360 with 1 Axes>",
      "image/png": "[encoded data removed]"
     },
     "metadata": {
      "needs_background": "light"
     },
     "output_type": "display_data"
    }
   ]
  },
  {
   "cell_type": "code",
   "metadata": {
    "colab": {
     "base_uri": "https://localhost:8080/",
     "height": 320
    },
    "id": "7tJl3RgYjhcs",
    "outputId": "777dbe64-8a62-4935-8964-d74d768c29cc"
   },
   "source": [
    "fig = plt.figure(figsize=(7,5))\n",
    "initial_means = [[40, 40], [100, 0], [0, 100]]\n",
    "initial_means_x = [x[0] for x in initial_means]\n",
    "initial_means_y = [y[1] for y in initial_means]\n",
    "plt.scatter(data_x, data_y)\n",
    "for x, y, c in zip(initial_means_x, initial_means_y, [\"green\", \"orange\", \"red\"]):\n",
    "  plt.scatter(x, y, marker=\"^\", color=c, s=140)\n",
    "fig.show()"
   ],
   "execution_count": 53,
   "outputs": [
    {
     "name": "stderr",
     "output_type": "stream",
     "text": [
      "/Library/Frameworks/Python.framework/Versions/3.7/lib/python3.7/site-packages/ipykernel_launcher.py:8: UserWarning: Matplotlib is currently using module://ipykernel.pylab.backend_inline, which is a non-GUI backend, so cannot show the figure.\n",
      "  \n"
     ]
    },
    {
     "data": {
      "text/plain": "<Figure size 504x360 with 1 Axes>",
      "image/png": "[encoded data removed]"
     },
     "metadata": {
      "needs_background": "light"
     },
     "output_type": "display_data"
    }
   ]
  },
  {
   "cell_type": "code",
   "metadata": {
    "id": "fi0HpCIXYVMf"
   },
   "source": [
    "def euclidean_distance(p1_x, p2_x, p1_y, p2_y):\n",
    "  x = ((p2_x-p1_x)**2)\n",
    "  y = ((p2_y-p1_y)**2)\n",
    "  return (x+y)**(1/2)"
   ],
   "execution_count": 54,
   "outputs": []
  },
  {
   "cell_type": "code",
   "metadata": {
    "id": "MM3GYQ-2xy6m"
   },
   "source": [
    "def cal_mean(points):\n",
    "  mean_x = 0\n",
    "  mean_y = 0\n",
    "  for point in points:\n",
    "    mean_x += point[0]\n",
    "    mean_y += point[1]\n",
    "  mean_x = mean_x/len(points)\n",
    "  mean_y = mean_y/len(points)\n",
    "  return [mean_x, mean_y]"
   ],
   "execution_count": 55,
   "outputs": []
  },
  {
   "cell_type": "code",
   "metadata": {
    "id": "kzVUb5AWMpIZ"
   },
   "source": [
    "def k_means(points, k, itr=100):\n",
    "  N, M = len(points), len(points[0])\n",
    "\n",
    "  cluster_num = [0 for i in range(N)]\n",
    "  \n",
    "  means = [[40, 40], [100, 0], [0, 100]]\n",
    "\n",
    "  for i in range(itr):\n",
    "    dist = dict([(k,[]) for k in range(N)])\n",
    "\n",
    "    for p_idx, p in enumerate(points):\n",
    "      for mean in means:\n",
    "        dist[p_idx].append(euclidean_distance(p[0], mean[0], p[1], mean[1]))\n",
    "    \n",
    "    cluster_num = []\n",
    "    for p_dist_idx, p_dist in enumerate(dist):\n",
    "      min_val = min(dist[p_dist])\n",
    "      min_val_idx = [i for i, v in enumerate(dist[p_dist]) if v == min_val][0]\n",
    "      cluster_num.append(min_val_idx)\n",
    "  \n",
    "    for k_class in range(k):\n",
    "      curr_point_idx_class = []\n",
    "      for cn_idx, cn in enumerate(cluster_num):\n",
    "        if cn == k_class:\n",
    "          curr_point_idx_class.append(points[cn_idx])\n",
    "      means[k_class] = cal_mean(curr_point_idx_class)\n",
    "  \n",
    "  return means"
   ],
   "execution_count": 56,
   "outputs": []
  },
  {
   "cell_type": "code",
   "metadata": {
    "colab": {
     "base_uri": "https://localhost:8080/",
     "height": 320
    },
    "id": "9eM3fdJ5z0df",
    "outputId": "2db4e44f-e3ae-440b-9bc2-bb7e4ea55fb9"
   },
   "source": [
    "fig = plt.figure(figsize=(7,5))\n",
    "kmeans = k_means(data, 3)\n",
    "kmeans_x = [x[0] for x in kmeans]\n",
    "kmeans_y = [y[1] for y in kmeans]\n",
    "plt.scatter(data_x, data_y)\n",
    "for x, y, c in zip(kmeans_x, kmeans_y, [\"green\", \"orange\", \"red\"]):\n",
    "  plt.scatter(x, y, marker=\"^\", color=c, s=140)\n",
    "fig.show()"
   ],
   "execution_count": 57,
   "outputs": [
    {
     "name": "stderr",
     "output_type": "stream",
     "text": [
      "/Library/Frameworks/Python.framework/Versions/3.7/lib/python3.7/site-packages/ipykernel_launcher.py:8: UserWarning: Matplotlib is currently using module://ipykernel.pylab.backend_inline, which is a non-GUI backend, so cannot show the figure.\n",
      "  \n"
     ]
    },
    {
     "data": {
      "text/plain": "<Figure size 504x360 with 1 Axes>",
      "image/png": "[encoded data removed]"
     },
     "metadata": {
      "needs_background": "light"
     },
     "output_type": "display_data"
    }
   ]
  }
 ]
}